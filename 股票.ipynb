{
 "cells": [
  {
   "cell_type": "code",
   "execution_count": 113,
   "metadata": {},
   "outputs": [],
   "source": [
    "targets = {\n",
    "    'AMZN':0.40,\n",
    "    'CSCO':0.30,\n",
    "    'GE':0.30\n",
    "}"
   ]
  },
  {
   "cell_type": "code",
   "execution_count": 114,
   "metadata": {},
   "outputs": [
    {
     "name": "stdout",
     "output_type": "stream",
     "text": [
      "            data  price  target  allocation  shares  market_value\n",
      "AMZN  2018-01-01    NaN     0.4           0       0             0\n",
      "CSCO  2018-01-01    NaN     0.3           0       0             0\n",
      "GE    2018-01-01    NaN     0.3           0       0             0\n",
      "CASH  2018-01-01    1.0     0.0           1   10000         10000\n"
     ]
    }
   ],
   "source": [
    "import pandas as pd\n",
    "import numpy as np\n",
    "\n",
    "portfolio = pd.DataFrame(\n",
    "    index=list(targets.keys()) + ['CASH'],\n",
    "    data={\n",
    "        'data':'2018-01-01',\n",
    "        'price': [np.NaN, np.NaN, np.NaN, 1],\n",
    "        'target': [0.4, 0.3, 0.3, 0],\n",
    "        'allocation': [0, 0, 0, 1],\n",
    "        'shares': [0, 0, 0, 10000],\n",
    "        'market_value': [0, 0, 0, 10000]\n",
    "    \n",
    "    }\n",
    ")\n",
    "\n",
    "print(portfolio)"
   ]
  },
  {
   "cell_type": "code",
   "execution_count": 115,
   "metadata": {},
   "outputs": [],
   "source": [
    "def instantiate_portfolio(targtes, starting_balance):\n",
    "    targets['CASH'] = 0\n",
    "    tickers = list(targets.keys())\n",
    "    \n",
    "    df = pd.DataFrame(\n",
    "        index=tickers,\n",
    "        columns=[\n",
    "            'data', 'price', 'target', 'allocation', 'shares', 'market_value'\n",
    "        ]\n",
    "    )\n",
    "    df.shares = 0\n",
    "    df.market_value = 0\n",
    "    df.allocation = 0\n",
    "    df.update(\n",
    "        pd.DataFrame\n",
    "            .from_dict(targets, orient='index')\n",
    "            .rename(columns={0:'target'})\n",
    "    )\n",
    "\n",
    "    df.at['CASH', 'shares'] = starting_balance\n",
    "\n",
    "    return df"
   ]
  },
  {
   "cell_type": "code",
   "execution_count": 116,
   "metadata": {},
   "outputs": [
    {
     "name": "stdout",
     "output_type": "stream",
     "text": [
      "     data price target  allocation  shares  market_value\n",
      "AMZN  NaN   NaN    0.4           0       0             0\n",
      "CSCO  NaN   NaN    0.3           0       0             0\n",
      "GE    NaN   NaN    0.3           0       0             0\n",
      "CASH  NaN   NaN      0           0   10000             0\n"
     ]
    }
   ],
   "source": [
    "portfolio = instantiate_portfolio(\n",
    "    {'AMZN':0.4, 'CSCO':0.3, 'GE':0.3},\n",
    "    10000\n",
    ")\n",
    "print(portfolio)"
   ]
  },
  {
   "cell_type": "code",
   "execution_count": 117,
   "metadata": {},
   "outputs": [
    {
     "name": "stdout",
     "output_type": "stream",
     "text": [
      "{'AMZN': 0.4, 'CSCO': 0.3, 'GE': 0.3, 'CASH': 0}\n",
      "{'AMZN': 0.4, 'CSCO': 0.3, 'GE': 0.3, 'CASH': 0}\n"
     ]
    },
    {
     "data": {
      "text/plain": [
       "{'AMZN': 0.4, 'CSCO': 0.3, 'GE': 0.3, 'CASH': 0}"
      ]
     },
     "execution_count": 117,
     "metadata": {},
     "output_type": "execute_result"
    }
   ],
   "source": [
    "print(targets)\n",
    "targets['CASH'] = 0\n",
    "print(targets)\n",
    "\n",
    "{'AMZN':0.4, 'CSCO':0.3, 'GE':0.3}\n",
    "{'AMZN':0.4, 'CSCO':0.3, 'GE':0.3, 'CASH':0}"
   ]
  },
  {
   "cell_type": "code",
   "execution_count": 133,
   "metadata": {},
   "outputs": [
    {
     "data": {
      "text/plain": [
       "['AMZN', 'CSCO', 'GE']"
      ]
     },
     "execution_count": 133,
     "metadata": {},
     "output_type": "execute_result"
    }
   ],
   "source": [
    "list(targets.keys())\n",
    "\n",
    "['AMZN', 'CSCO', 'GE']"
   ]
  },
  {
   "cell_type": "code",
   "execution_count": 119,
   "metadata": {},
   "outputs": [
    {
     "name": "stdout",
     "output_type": "stream",
     "text": [
      "        0\n",
      "AMZN  0.4\n",
      "CSCO  0.3\n",
      "GE    0.3\n",
      "CASH  0.0\n"
     ]
    }
   ],
   "source": [
    "print(pd.DataFrame.from_dict(targets, orient='index'))"
   ]
  },
  {
   "cell_type": "code",
   "execution_count": 120,
   "metadata": {},
   "outputs": [
    {
     "name": "stdout",
     "output_type": "stream",
     "text": [
      "      target\n",
      "AMZN     0.4\n",
      "CSCO     0.3\n",
      "GE       0.3\n",
      "CASH     0.0\n"
     ]
    }
   ],
   "source": [
    "print(\n",
    "pd.DataFrame\n",
    "    .from_dict(targets, orient='index')\n",
    "    .rename(columns={0:'target'})\n",
    ")"
   ]
  },
  {
   "cell_type": "code",
   "execution_count": 121,
   "metadata": {},
   "outputs": [
    {
     "name": "stdout",
     "output_type": "stream",
     "text": [
      "      shares\n",
      "CASH       0\n",
      "GE         1\n",
      "      shares\n",
      "CASH   10000\n",
      "GE         1\n"
     ]
    }
   ],
   "source": [
    "df = pd.DataFrame(index=['CASH', 'GE'], data={'shares': [0, 1]})\n",
    "print(df)\n",
    "df.at['CASH', 'shares'] = 10000\n",
    "print(df)"
   ]
  },
  {
   "cell_type": "code",
   "execution_count": 122,
   "metadata": {},
   "outputs": [
    {
     "name": "stdout",
     "output_type": "stream",
     "text": [
      "     data price target  allocation  shares  market_value\n",
      "AMZN  NaN   NaN    0.4           0       0             0\n",
      "CSCO  NaN   NaN    0.3           0       0             0\n",
      "GE    NaN   NaN    0.3           0       0             0\n",
      "CASH  NaN   NaN      0           0   10000             0\n"
     ]
    }
   ],
   "source": [
    "print(portfolio)"
   ]
  },
  {
   "cell_type": "code",
   "execution_count": 123,
   "metadata": {},
   "outputs": [],
   "source": [
    "def update_prices(portfolio, prices):\n",
    "    prices['CASH'] = 1\n",
    "    portfolio.update(pd.DataFrame({'price': prices}))\n",
    "    portfolio.date = prices.name\n",
    "    portfolio.market_value = portfolio.shares * portfolio.price"
   ]
  },
  {
   "cell_type": "code",
   "execution_count": 124,
   "metadata": {},
   "outputs": [
    {
     "name": "stdout",
     "output_type": "stream",
     "text": [
      "AMZN    945.21\n",
      "CSCO     30.52\n",
      "GE       29.27\n",
      "Name: 2018-01-01, dtype: float64\n"
     ]
    }
   ],
   "source": [
    "prices = pd.Series(\n",
    "    name='2018-01-01', \n",
    "    data={'AMZN': 945.21,'CSCO': 30.52, 'GE': 29.27}\n",
    ")\n",
    "print(prices)\n",
    "update_prices(portfolio, prices)"
   ]
  },
  {
   "cell_type": "code",
   "execution_count": 125,
   "metadata": {},
   "outputs": [
    {
     "name": "stdout",
     "output_type": "stream",
     "text": [
      "     data   price target  allocation  shares market_value\n",
      "AMZN  NaN  945.21    0.4           0       0            0\n",
      "CSCO  NaN   30.52    0.3           0       0            0\n",
      "GE    NaN   29.27    0.3           0       0            0\n",
      "CASH  NaN       1      0           0   10000        10000\n"
     ]
    }
   ],
   "source": [
    "print(portfolio)"
   ]
  },
  {
   "cell_type": "code",
   "execution_count": 126,
   "metadata": {},
   "outputs": [],
   "source": [
    "def get_order(portfolio):\n",
    "    total_value = portfolio.market_value.sum()\n",
    "    \n",
    "    order = (\n",
    "        (total_value * portfolio.target // portfolio.price)\n",
    "        - portfolio.shares\n",
    "    ).drop('CASH')\n",
    "    return order"
   ]
  },
  {
   "cell_type": "code",
   "execution_count": 127,
   "metadata": {},
   "outputs": [
    {
     "name": "stdout",
     "output_type": "stream",
     "text": [
      "4.0\n"
     ]
    }
   ],
   "source": [
    "total_value = 10000\n",
    "target = 0.4\n",
    "price = 945.21\n",
    "AMZN = (total_value * target // price) - 0\n",
    "print(AMZN)"
   ]
  },
  {
   "cell_type": "code",
   "execution_count": 128,
   "metadata": {},
   "outputs": [
    {
     "name": "stdout",
     "output_type": "stream",
     "text": [
      "AMZN      4\n",
      "CSCO     98\n",
      "GE      102\n",
      "dtype: object\n"
     ]
    }
   ],
   "source": [
    "order = get_order(portfolio)\n",
    "print(order)"
   ]
  },
  {
   "cell_type": "code",
   "execution_count": 129,
   "metadata": {},
   "outputs": [],
   "source": [
    "def deposit(portfolio, amount):\n",
    "    portfolio.at['CASH', 'shares'] += amount\n",
    "    portfolio.at['CASH', 'market_value'] = portfolio.at['CASH', 'shares']\n",
    "deposit(portfolio, 1000)"
   ]
  },
  {
   "cell_type": "code",
   "execution_count": 130,
   "metadata": {},
   "outputs": [
    {
     "name": "stdout",
     "output_type": "stream",
     "text": [
      "AMZN      4\n",
      "CSCO    108\n",
      "GE      112\n",
      "dtype: object\n"
     ]
    }
   ],
   "source": [
    "order = get_order(portfolio)\n",
    "print(order)"
   ]
  },
  {
   "cell_type": "code",
   "execution_count": 131,
   "metadata": {},
   "outputs": [],
   "source": [
    "def simulate_process_order(portfolio, order):\n",
    "    starting_cash = portfolio.at['CASH', 'shares']\n",
    "    cash_adjustment = np.sum(order * portfolio.price)\n",
    "    portfolio.shares += order\n",
    "    portfolio.market_value = portfolio.shares * portfolio.price\n",
    "    portfolio.at['CASH', 'shares'] = starting_cash - cash_adjustment\n",
    "    portfolio.market_value = portfolio.shares * portfolio.price\n",
    "    portfolio.allocation = (\n",
    "        portfolio.market_value / portfolio.market_value.sum()\n",
    "    )"
   ]
  },
  {
   "cell_type": "code",
   "execution_count": 132,
   "metadata": {},
   "outputs": [
    {
     "name": "stdout",
     "output_type": "stream",
     "text": [
      "     data   price target allocation  shares market_value\n",
      "AMZN  NaN  945.21    0.4   0.343713       4      3780.84\n",
      "CSCO  NaN   30.52    0.3   0.299651     108      3296.16\n",
      "GE    NaN   29.27    0.3   0.298022     112      3278.24\n",
      "CASH  NaN       1      0  0.0586145  644.76       644.76\n"
     ]
    }
   ],
   "source": [
    "simulate_process_order(portfolio, order)\n",
    "print(portfolio)"
   ]
  },
  {
   "cell_type": "code",
   "execution_count": null,
   "metadata": {},
   "outputs": [],
   "source": []
  },
  {
   "cell_type": "code",
   "execution_count": null,
   "metadata": {},
   "outputs": [],
   "source": []
  }
 ],
 "metadata": {
  "kernelspec": {
   "display_name": "Python 3",
   "language": "python",
   "name": "python3"
  },
  "language_info": {
   "codemirror_mode": {
    "name": "ipython",
    "version": 3
   },
   "file_extension": ".py",
   "mimetype": "text/x-python",
   "name": "python",
   "nbconvert_exporter": "python",
   "pygments_lexer": "ipython3",
   "version": "3.8.5"
  }
 },
 "nbformat": 4,
 "nbformat_minor": 4
}
