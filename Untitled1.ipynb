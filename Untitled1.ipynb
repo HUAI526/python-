{
 "cells": [
  {
   "cell_type": "code",
   "execution_count": 1,
   "metadata": {},
   "outputs": [
    {
     "name": "stdout",
     "output_type": "stream",
     "text": [
      "\u001b[33mDEPRECATION: Python 2.7 reached the end of its life on January 1st, 2020. Please upgrade your Python as Python 2.7 is no longer maintained. pip 21.0 will drop support for Python 2.7 in January 2021. More details about Python 2 support in pip can be found at https://pip.pypa.io/en/latest/development/release-process/#python-2-support pip 21.0 will remove support for this functionality.\u001b[0m\n",
      "Defaulting to user installation because normal site-packages is not writeable\n",
      "Requirement already satisfied: requests in ./Library/Python/2.7/lib/python/site-packages (2.25.1)\n",
      "Requirement already satisfied: chardet<5,>=3.0.2 in ./Library/Python/2.7/lib/python/site-packages (from requests) (4.0.0)\n",
      "Requirement already satisfied: urllib3<1.27,>=1.21.1 in ./Library/Python/2.7/lib/python/site-packages (from requests) (1.26.2)\n",
      "Requirement already satisfied: idna<3,>=2.5 in ./Library/Python/2.7/lib/python/site-packages (from requests) (2.10)\n",
      "Requirement already satisfied: certifi>=2017.4.17 in ./Library/Python/2.7/lib/python/site-packages (from requests) (2020.12.5)\n"
     ]
    }
   ],
   "source": [
    "!pip install requests"
   ]
  },
  {
   "cell_type": "code",
   "execution_count": 21,
   "metadata": {},
   "outputs": [
    {
     "name": "stdout",
     "output_type": "stream",
     "text": [
      "\u001b[33mDEPRECATION: Python 2.7 reached the end of its life on January 1st, 2020. Please upgrade your Python as Python 2.7 is no longer maintained. pip 21.0 will drop support for Python 2.7 in January 2021. More details about Python 2 support in pip can be found at https://pip.pypa.io/en/latest/development/release-process/#python-2-support pip 21.0 will remove support for this functionality.\u001b[0m\n",
      "Defaulting to user installation because normal site-packages is not writeable\n",
      "Requirement already up-to-date: python-dotenv in ./Library/Python/2.7/lib/python/site-packages (0.17.1)\n",
      "Requirement already satisfied, skipping upgrade: typing; python_version < \"3.5\" in ./Library/Python/2.7/lib/python/site-packages (from python-dotenv) (3.10.0.0)\n",
      "ERROR: unknown command \"update\"\n"
     ]
    }
   ],
   "source": [
    "!pip install -U python-dotenv\n",
    "!pip update python"
   ]
  },
  {
   "cell_type": "code",
   "execution_count": 20,
   "metadata": {},
   "outputs": [
    {
     "ename": "SyntaxError",
     "evalue": "EOL while scanning string literal (<ipython-input-20-0e9e47b8d509>, line 2)",
     "output_type": "error",
     "traceback": [
      "\u001b[0;36m  File \u001b[0;32m\"<ipython-input-20-0e9e47b8d509>\"\u001b[0;36m, line \u001b[0;32m2\u001b[0m\n\u001b[0;31m    \"disclaimer\":\"Usage subject to terms:\u001b[0m\n\u001b[0m                                         ^\u001b[0m\n\u001b[0;31mSyntaxError\u001b[0m\u001b[0;31m:\u001b[0m EOL while scanning string literal\n"
     ]
    }
   ],
   "source": [
    "{\n",
    "    \"disclaimer\":\"Usage subject to terms:\n",
    "    https://openexchangerates.org/terms\",\n",
    "    \"license\": \"https://openexchangerates.org/license\",\n",
    "    \"timestamp\":1519588738,\n",
    "    \"base\":\"USD\",\n",
    "    \"rates\":{\n",
    "        \"CAD\":1.303016,\n",
    "        \"USD\":1\n",
    "    }\n",
    "}"
   ]
  },
  {
   "cell_type": "code",
   "execution_count": 12,
   "metadata": {},
   "outputs": [
    {
     "data": {
      "text/html": [
       "<div>\n",
       "<style scoped>\n",
       "    .dataframe tbody tr th:only-of-type {\n",
       "        vertical-align: middle;\n",
       "    }\n",
       "\n",
       "    .dataframe tbody tr th {\n",
       "        vertical-align: top;\n",
       "    }\n",
       "\n",
       "    .dataframe thead th {\n",
       "        text-align: right;\n",
       "    }\n",
       "</style>\n",
       "<table border=\"1\" class=\"dataframe\">\n",
       "  <thead>\n",
       "    <tr style=\"text-align: right;\">\n",
       "      <th></th>\n",
       "      <th>date</th>\n",
       "      <th>income</th>\n",
       "      <th>expenses</th>\n",
       "      <th>total</th>\n",
       "    </tr>\n",
       "  </thead>\n",
       "  <tbody>\n",
       "    <tr>\n",
       "      <th>0</th>\n",
       "      <td>2017-01-01</td>\n",
       "      <td>40</td>\n",
       "      <td>-3000</td>\n",
       "      <td>-2960</td>\n",
       "    </tr>\n",
       "    <tr>\n",
       "      <th>1</th>\n",
       "      <td>2017-01-25</td>\n",
       "      <td>40</td>\n",
       "      <td>-50</td>\n",
       "      <td>-10</td>\n",
       "    </tr>\n",
       "    <tr>\n",
       "      <th>2</th>\n",
       "      <td>2017-02-12</td>\n",
       "      <td>80</td>\n",
       "      <td>-50</td>\n",
       "      <td>30</td>\n",
       "    </tr>\n",
       "    <tr>\n",
       "      <th>3</th>\n",
       "      <td>2017-02-14</td>\n",
       "      <td>100</td>\n",
       "      <td>-30</td>\n",
       "      <td>70</td>\n",
       "    </tr>\n",
       "    <tr>\n",
       "      <th>4</th>\n",
       "      <td>2017-03-04</td>\n",
       "      <td>100</td>\n",
       "      <td>-20</td>\n",
       "      <td>80</td>\n",
       "    </tr>\n",
       "    <tr>\n",
       "      <th>5</th>\n",
       "      <td>2017-04-23</td>\n",
       "      <td>160</td>\n",
       "      <td>-30</td>\n",
       "      <td>130</td>\n",
       "    </tr>\n",
       "    <tr>\n",
       "      <th>6</th>\n",
       "      <td>2017-05-07</td>\n",
       "      <td>140</td>\n",
       "      <td>-20</td>\n",
       "      <td>120</td>\n",
       "    </tr>\n",
       "    <tr>\n",
       "      <th>7</th>\n",
       "      <td>2017-05-21</td>\n",
       "      <td>140</td>\n",
       "      <td>-40</td>\n",
       "      <td>100</td>\n",
       "    </tr>\n",
       "    <tr>\n",
       "      <th>8</th>\n",
       "      <td>2017-06-04</td>\n",
       "      <td>80</td>\n",
       "      <td>-40</td>\n",
       "      <td>40</td>\n",
       "    </tr>\n",
       "    <tr>\n",
       "      <th>9</th>\n",
       "      <td>2017-06-19</td>\n",
       "      <td>180</td>\n",
       "      <td>-30</td>\n",
       "      <td>150</td>\n",
       "    </tr>\n",
       "    <tr>\n",
       "      <th>10</th>\n",
       "      <td>2017-07-16</td>\n",
       "      <td>360</td>\n",
       "      <td>-40</td>\n",
       "      <td>320</td>\n",
       "    </tr>\n",
       "    <tr>\n",
       "      <th>11</th>\n",
       "      <td>2017-08-27</td>\n",
       "      <td>160</td>\n",
       "      <td>-30</td>\n",
       "      <td>130</td>\n",
       "    </tr>\n",
       "    <tr>\n",
       "      <th>12</th>\n",
       "      <td>2017-09-24</td>\n",
       "      <td>240</td>\n",
       "      <td>-20</td>\n",
       "      <td>220</td>\n",
       "    </tr>\n",
       "    <tr>\n",
       "      <th>13</th>\n",
       "      <td>2017-10-21</td>\n",
       "      <td>420</td>\n",
       "      <td>-50</td>\n",
       "      <td>370</td>\n",
       "    </tr>\n",
       "    <tr>\n",
       "      <th>14</th>\n",
       "      <td>2017-11-19</td>\n",
       "      <td>400</td>\n",
       "      <td>-20</td>\n",
       "      <td>380</td>\n",
       "    </tr>\n",
       "    <tr>\n",
       "      <th>15</th>\n",
       "      <td>2017-12-03</td>\n",
       "      <td>340</td>\n",
       "      <td>-40</td>\n",
       "      <td>300</td>\n",
       "    </tr>\n",
       "    <tr>\n",
       "      <th>16</th>\n",
       "      <td>2017-12-17</td>\n",
       "      <td>360</td>\n",
       "      <td>-40</td>\n",
       "      <td>320</td>\n",
       "    </tr>\n",
       "    <tr>\n",
       "      <th>17</th>\n",
       "      <td>2017-12-31</td>\n",
       "      <td>540</td>\n",
       "      <td>-40</td>\n",
       "      <td>500</td>\n",
       "    </tr>\n",
       "  </tbody>\n",
       "</table>\n",
       "</div>"
      ],
      "text/plain": [
       "         date  income  expenses  total\n",
       "0  2017-01-01      40     -3000  -2960\n",
       "1  2017-01-25      40       -50    -10\n",
       "2  2017-02-12      80       -50     30\n",
       "3  2017-02-14     100       -30     70\n",
       "4  2017-03-04     100       -20     80\n",
       "5  2017-04-23     160       -30    130\n",
       "6  2017-05-07     140       -20    120\n",
       "7  2017-05-21     140       -40    100\n",
       "8  2017-06-04      80       -40     40\n",
       "9  2017-06-19     180       -30    150\n",
       "10 2017-07-16     360       -40    320\n",
       "11 2017-08-27     160       -30    130\n",
       "12 2017-09-24     240       -20    220\n",
       "13 2017-10-21     420       -50    370\n",
       "14 2017-11-19     400       -20    380\n",
       "15 2017-12-03     340       -40    300\n",
       "16 2017-12-17     360       -40    320\n",
       "17 2017-12-31     540       -40    500"
      ]
     },
     "execution_count": 12,
     "metadata": {},
     "output_type": "execute_result"
    }
   ],
   "source": [
    "import pandas as pd\n",
    "df = pd.read_excel('desktop/rich/data/xirr.xlsx', sheet_name=\"irregular\")\n",
    "df['total'] = df.income + df.expenses\n",
    "df"
   ]
  },
  {
   "cell_type": "code",
   "execution_count": 17,
   "metadata": {},
   "outputs": [
    {
     "ename": "IndentationError",
     "evalue": "expected an indented block (<ipython-input-17-4b6a39702718>, line 2)",
     "output_type": "error",
     "traceback": [
      "\u001b[0;36m  File \u001b[0;32m\"<ipython-input-17-4b6a39702718>\"\u001b[0;36m, line \u001b[0;32m2\u001b[0m\n\u001b[0;31m    c = CurrencyConverter(['CAD', 'USD'], API_KEY)\u001b[0m\n\u001b[0m    ^\u001b[0m\n\u001b[0;31mIndentationError\u001b[0m\u001b[0;31m:\u001b[0m expected an indented block\n"
     ]
    }
   ],
   "source": [
    "class CurrencyConverter:\n",
    "c = CurrencyConverter(['CAD', 'USD'], API_KEY)"
   ]
  },
  {
   "cell_type": "code",
   "execution_count": null,
   "metadata": {},
   "outputs": [],
   "source": []
  }
 ],
 "metadata": {
  "kernelspec": {
   "display_name": "Python 3",
   "language": "python",
   "name": "python3"
  },
  "language_info": {
   "codemirror_mode": {
    "name": "ipython",
    "version": 3
   },
   "file_extension": ".py",
   "mimetype": "text/x-python",
   "name": "python",
   "nbconvert_exporter": "python",
   "pygments_lexer": "ipython3",
   "version": "3.8.5"
  }
 },
 "nbformat": 4,
 "nbformat_minor": 4
}
